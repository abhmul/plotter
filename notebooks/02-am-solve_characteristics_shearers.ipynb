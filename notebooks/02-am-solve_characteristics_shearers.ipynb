{
 "cells": [
  {
   "cell_type": "code",
   "execution_count": 1,
   "metadata": {},
   "outputs": [],
   "source": [
    "from IPython.display import Math\n",
    "from sage.all import *\n",
    "\n",
    "\n",
    "t = var('t')\n",
    "A = var('A')\n",
    "B = var('B')\n",
    "assume(A < 0)\n",
    "assume(t < log(-1/A))\n",
    "\n",
    "x_expr = 1 / (1 + A * exp(t))\n",
    "y_expr = ((x_expr - 1) **2 / x_expr) * (B / (A ** 2) - log((1 - x_expr)  / A)) + 2 * x_expr"
   ]
  },
  {
   "cell_type": "code",
   "execution_count": 2,
   "metadata": {},
   "outputs": [
    {
     "name": "stdout",
     "output_type": "stream",
     "text": [
      "x satisfies: 0\n",
      "y satisfies: 0\n"
     ]
    }
   ],
   "source": [
    "# check tha x,y solve their respective differential equations\n",
    "x_sat = (diff(x_expr, t) - x_expr * (x_expr-1)).simplify_full()\n",
    "y_sat = (diff(y_expr, t) - (y_expr - (x_expr + 1)) * (x_expr + 1)).simplify_full()\n",
    "\n",
    "print(f\"x satisfies: {x_sat}\")\n",
    "print(f\"y satisfies: {y_sat}\")\n"
   ]
  },
  {
   "cell_type": "code",
   "execution_count": 3,
   "metadata": {},
   "outputs": [
    {
     "name": "stdout",
     "output_type": "stream",
     "text": [
      "Full Solution:\n"
     ]
    },
    {
     "data": {
      "text/latex": [
       "$\\displaystyle -{\\left({\\left(\\frac{1}{A} - \\frac{1}{{\\left(A e^{t} + 1\\right)} A}\\right)} \\log\\left(\\frac{1}{A} - \\frac{1}{{\\left(A e^{t} + 1\\right)} A}\\right) - \\frac{1}{A} + \\frac{1}{{\\left(A e^{t} + 1\\right)} A}\\right)} A - {\\left(e^{t} \\log\\left(\\frac{1}{A} - \\frac{1}{{\\left(A e^{t} + 1\\right)} A}\\right) - \\frac{\\log\\left(A e^{t} + 1\\right)}{A}\\right)} A - \\frac{3}{2} \\, t^{2} - A {\\left(\\frac{\\log\\left(A e^{t} + 1\\right)^{2}}{A} - \\frac{2 \\, {\\left(t \\log\\left(A e^{t} + 1\\right) + {\\rm Li}_2\\left(-A e^{t}\\right)\\right)}}{A}\\right)} + 2 \\, t \\log\\left(A e^{t} + 1\\right) - \\log\\left(A e^{t} + 1\\right)^{2} - {\\left(t + \\frac{1}{A e^{t} + 1} - \\log\\left(A e^{t} + 1\\right)\\right)} \\log\\left(\\frac{1}{A} - \\frac{1}{{\\left(A e^{t} + 1\\right)} A}\\right) + 2 \\, {\\left(t - \\log\\left(A e^{t} + 1\\right)\\right)} \\log\\left(\\frac{1}{A} - \\frac{1}{{\\left(A e^{t} + 1\\right)} A}\\right) + \\frac{B e^{t}}{A} + \\frac{{\\left(A e^{t} + 1\\right)} t^{2} + {\\left(A e^{t} + 1\\right)} \\log\\left(A e^{t} + 1\\right)^{2} + 2 \\, {\\left(A e^{t} + 1\\right)} t - 2 \\, {\\left({\\left(A e^{t} + 1\\right)} t + A e^{t} + 1\\right)} \\log\\left(A e^{t} + 1\\right) + 2}{2 \\, {\\left(A e^{t} + 1\\right)}} + \\frac{B {\\left(t + \\frac{1}{A e^{t} + 1} - \\log\\left(A e^{t} + 1\\right)\\right)}}{A^{2}} - \\frac{2 \\, B {\\left(t - \\log\\left(A e^{t} + 1\\right)\\right)}}{A^{2}} + \\frac{B t}{A^{2}} - \\frac{2 \\, B \\log\\left(A e^{t} + 1\\right)}{A^{2}} - \\frac{B}{{\\left(A e^{t} + 1\\right)} A^{2}} - {\\rm Li}_2\\left(-A e^{t}\\right) - \\log\\left(A e^{t} + 1\\right)$"
      ],
      "text/plain": [
       "<IPython.core.display.Math object>"
      ]
     },
     "metadata": {},
     "output_type": "display_data"
    },
    {
     "name": "stdout",
     "output_type": "stream",
     "text": [
      "Checking:\n"
     ]
    },
    {
     "data": {
      "text/latex": [
       "$\\displaystyle 0$"
      ],
      "text/plain": [
       "<IPython.core.display.Math object>"
      ]
     },
     "metadata": {},
     "output_type": "display_data"
    },
    {
     "name": "stdout",
     "output_type": "stream",
     "text": [
      "z solution is correct\n"
     ]
    }
   ],
   "source": [
    "from sage.symbolic.integration.integral import indefinite_integral\n",
    "\n",
    "# Compute the z solution\n",
    "z = function('z')(t)\n",
    "\n",
    "# z_deq = diff(z, t) - y_expr + x_expr + 1\n",
    "# z_sol = desolve(z_deq, z, ivar=t, contrib_ode=True)\n",
    "integrand = (y_expr - (x_expr + 1)).expand()\n",
    "z_sols = []\n",
    "\n",
    "def do_check_substitutions(expr):\n",
    "    return expr.subs(\n",
    "        log(e**t / (A * e**t + 1)) == t - log(A * e**t + 1),\n",
    "    ) \\\n",
    "    .simplify_full()\n",
    "\n",
    "for opnd in integrand.operands():\n",
    "    z_sol_i = indefinite_integral(opnd, t)\n",
    "    z_sols.append(z_sol_i)\n",
    "\n",
    "    z_deq = (diff(z_sol_i, t) - opnd)\n",
    "    z_deq = z_deq.simplify_full()\n",
    "    z_deq = do_check_substitutions(z_deq)\n",
    "    if z_deq != 0:\n",
    "        print(\"Check failed!\")\n",
    "        print(\"Computing integral for:\")\n",
    "        display(Math(latex(opnd)))\n",
    "\n",
    "        print(\"Integral:\")\n",
    "        display(Math(latex(z_sol_i)))\n",
    "\n",
    "        print(\"Failed Check:\")\n",
    "        display(Math(latex(z_deq)))\n",
    "\n",
    "z_sol_t = sum(z_sols)\n",
    "\n",
    "print(\"Full Solution:\")\n",
    "display(Math(latex(z_sol_t)))\n",
    "\n",
    "print(\"Checking:\")\n",
    "z_deq = (diff(z_sol_t, t) - integrand)\n",
    "z_deq = z_deq.simplify_full()\n",
    "z_deq = do_check_substitutions(z_deq)\n",
    "display(Math(latex(z_deq)))\n",
    "\n",
    "if z_deq != 0:\n",
    "    print(\"Error: z solution is not correct!!!\")\n",
    "else:\n",
    "    print(\"z solution is correct\")\n"
   ]
  },
  {
   "cell_type": "code",
   "execution_count": 4,
   "metadata": {},
   "outputs": [
    {
     "name": "stdout",
     "output_type": "stream",
     "text": [
      "x(t):\n"
     ]
    },
    {
     "data": {
      "text/latex": [
       "$\\displaystyle x = \\frac{1}{A e^{t} + 1}$"
      ],
      "text/plain": [
       "<IPython.core.display.Math object>"
      ]
     },
     "metadata": {},
     "output_type": "display_data"
    },
    {
     "name": "stdout",
     "output_type": "stream",
     "text": [
      "z(t):\n"
     ]
    },
    {
     "data": {
      "text/latex": [
       "$\\displaystyle z\\left(t\\right) = -{\\left({\\left(\\frac{1}{A} - \\frac{1}{{\\left(A e^{t} + 1\\right)} A}\\right)} \\log\\left(\\frac{1}{A} - \\frac{1}{{\\left(A e^{t} + 1\\right)} A}\\right) - \\frac{1}{A} + \\frac{1}{{\\left(A e^{t} + 1\\right)} A}\\right)} A - {\\left(e^{t} \\log\\left(\\frac{1}{A} - \\frac{1}{{\\left(A e^{t} + 1\\right)} A}\\right) - \\frac{\\log\\left(A e^{t} + 1\\right)}{A}\\right)} A - \\frac{3}{2} \\, t^{2} - A {\\left(\\frac{\\log\\left(A e^{t} + 1\\right)^{2}}{A} - \\frac{2 \\, {\\left(t \\log\\left(A e^{t} + 1\\right) + {\\rm Li}_2\\left(-A e^{t}\\right)\\right)}}{A}\\right)} + 2 \\, t \\log\\left(A e^{t} + 1\\right) - \\log\\left(A e^{t} + 1\\right)^{2} - {\\left(t + \\frac{1}{A e^{t} + 1} - \\log\\left(A e^{t} + 1\\right)\\right)} \\log\\left(\\frac{1}{A} - \\frac{1}{{\\left(A e^{t} + 1\\right)} A}\\right) + 2 \\, {\\left(t - \\log\\left(A e^{t} + 1\\right)\\right)} \\log\\left(\\frac{1}{A} - \\frac{1}{{\\left(A e^{t} + 1\\right)} A}\\right) + \\frac{B e^{t}}{A} + \\frac{{\\left(A e^{t} + 1\\right)} t^{2} + {\\left(A e^{t} + 1\\right)} \\log\\left(A e^{t} + 1\\right)^{2} + 2 \\, {\\left(A e^{t} + 1\\right)} t - 2 \\, {\\left({\\left(A e^{t} + 1\\right)} t + A e^{t} + 1\\right)} \\log\\left(A e^{t} + 1\\right) + 2}{2 \\, {\\left(A e^{t} + 1\\right)}} + \\frac{B {\\left(t + \\frac{1}{A e^{t} + 1} - \\log\\left(A e^{t} + 1\\right)\\right)}}{A^{2}} - \\frac{2 \\, B {\\left(t - \\log\\left(A e^{t} + 1\\right)\\right)}}{A^{2}} + \\frac{B t}{A^{2}} - \\frac{2 \\, B \\log\\left(A e^{t} + 1\\right)}{A^{2}} - \\frac{B}{{\\left(A e^{t} + 1\\right)} A^{2}} - {\\rm Li}_2\\left(-A e^{t}\\right) - \\log\\left(A e^{t} + 1\\right)$"
      ],
      "text/plain": [
       "<IPython.core.display.Math object>"
      ]
     },
     "metadata": {},
     "output_type": "display_data"
    },
    {
     "name": "stdout",
     "output_type": "stream",
     "text": [
      "z(x):\n"
     ]
    },
    {
     "data": {
      "text/latex": [
       "$\\displaystyle z\\left(t\\right) = \\frac{1}{2} \\, \\log\\left(x\\right)^{2} - \\log\\left(x\\right) \\log\\left(-\\frac{x}{A} + \\frac{1}{A}\\right) + \\frac{B \\log\\left(x\\right)}{A^{2}} - \\frac{\\log\\left(-\\frac{x}{A} + \\frac{1}{A}\\right)}{x} - \\frac{B}{A^{2}} + \\frac{B}{A^{2} x} + {\\rm Li}_2\\left(-\\frac{1}{x} + 1\\right) + \\log\\left(-\\frac{x}{A} + \\frac{1}{A}\\right) + 1$"
      ],
      "text/plain": [
       "<IPython.core.display.Math object>"
      ]
     },
     "metadata": {},
     "output_type": "display_data"
    }
   ],
   "source": [
    "# Next we need to substitute in x in for all the t's in z\n",
    "x = var('x')\n",
    "\n",
    "print(\"x(t):\")\n",
    "display(Math(latex(x == x_expr)))\n",
    "\n",
    "print(\"z(t):\")\n",
    "display(Math(latex(z == z_sol_t)))\n",
    "\n",
    "def do_x_substitutions(expr):\n",
    "    return expr.expand() \\\n",
    "        .subs(x_expr == x) \\\n",
    "        .subs( (1 / x_expr).simplify_full() == 1/x) \\\n",
    "        .subs( ((x_expr - 1) / x_expr).simplify_full() ==((x - 1) / x)) \\\n",
    "        .subs( ((1 - x_expr) / x_expr).simplify_full() == (1 - x) / x) \\\n",
    "        .subs( (((x_expr - 1) / x_expr)*t).simplify_full()==((x - 1) / x)*t) \\\n",
    "        .subs( dilog((x_expr - 1) / x_expr).simplify_full() ==dilog((x - 1) / x)) \\\n",
    "        .subs( ((1 - x_expr) / x_expr * log(1/x)).simplify_full() ==(1 - x) / x * log(1/x)) \\\n",
    "        .subs( ((1-x_expr) / (A * x_expr)).simplify_full() == (1-x) / (A * x)) \\\n",
    "        .subs( log((1-x_expr) / (A * x_expr)).simplify_full() == log((1-x) / (A * x))) \\\n",
    "        .subs( log( - (x-1) / (A*x) ) == log( - (x-1) / A) + log(1/x)) \\\n",
    "        .subs( log(1/x) == -log(x)) \\\n",
    "        .simplify_full() \\\n",
    "        .expand()\n",
    "\n",
    "z_sol_x = do_x_substitutions(z_sol_t)\n",
    "\n",
    "print(\"z(x):\")\n",
    "display(Math(latex(z == z_sol_x)))"
   ]
  },
  {
   "cell_type": "code",
   "execution_count": 17,
   "metadata": {},
   "outputs": [
    {
     "name": "stdout",
     "output_type": "stream",
     "text": [
      "y(t):\n"
     ]
    },
    {
     "data": {
      "text/latex": [
       "$\\displaystyle y = {\\left(A e^{t} + 1\\right)} {\\left(\\frac{1}{A e^{t} + 1} - 1\\right)}^{2} {\\left(\\frac{B}{A^{2}} - \\log\\left(-\\frac{\\frac{1}{A e^{t} + 1} - 1}{A}\\right)\\right)} + \\frac{2}{A e^{t} + 1}$"
      ],
      "text/plain": [
       "<IPython.core.display.Math object>"
      ]
     },
     "metadata": {},
     "output_type": "display_data"
    },
    {
     "name": "stdout",
     "output_type": "stream",
     "text": [
      "y(x):\n"
     ]
    },
    {
     "data": {
      "text/latex": [
       "$\\displaystyle y = \\frac{{\\left(x - 1\\right)}^{2} {\\left(\\frac{B}{A^{2}} - \\log\\left(-\\frac{x - 1}{A}\\right)\\right)}}{x} + 2 \\, x$"
      ],
      "text/plain": [
       "<IPython.core.display.Math object>"
      ]
     },
     "metadata": {},
     "output_type": "display_data"
    },
    {
     "name": "stdout",
     "output_type": "stream",
     "text": [
      "z(x):\n"
     ]
    },
    {
     "data": {
      "text/latex": [
       "$\\displaystyle z\\left(t\\right) = \\frac{1}{2} \\, \\log\\left(x\\right)^{2} - \\log\\left(x\\right) \\log\\left(-\\frac{x}{A} + \\frac{1}{A}\\right) + \\frac{B \\log\\left(x\\right)}{A^{2}} - \\frac{\\log\\left(-\\frac{x}{A} + \\frac{1}{A}\\right)}{x} - \\frac{B}{A^{2}} + \\frac{B}{A^{2} x} + {\\rm Li}_2\\left(-\\frac{1}{x} + 1\\right) + \\log\\left(-\\frac{x}{A} + \\frac{1}{A}\\right) + 1$"
      ],
      "text/plain": [
       "<IPython.core.display.Math object>"
      ]
     },
     "metadata": {},
     "output_type": "display_data"
    },
    {
     "name": "stdout",
     "output_type": "stream",
     "text": [
      "z(x, y):\n"
     ]
    },
    {
     "data": {
      "text/latex": [
       "$\\displaystyle z\\left(t\\right) = \\frac{1}{2} \\, \\log\\left(x\\right)^{2} - \\frac{{\\left(2 \\, x - y\\right)} x \\log\\left(x\\right)}{{\\left(x - 1\\right)}^{2}} + \\frac{{\\left(2 \\, x - y\\right)} x}{{\\left(x - 1\\right)}^{2}} - \\frac{2 \\, x - y}{{\\left(x - 1\\right)}^{2}} + {\\rm Li}_2\\left(-\\frac{1}{x} + 1\\right) + 1$"
      ],
      "text/plain": [
       "<IPython.core.display.Math object>"
      ]
     },
     "metadata": {},
     "output_type": "display_data"
    }
   ],
   "source": [
    "# Next we need to substitute in y where it can be substituted into z\n",
    "y = var('y')\n",
    "\n",
    "print(\"y(t):\")\n",
    "display(Math(latex(y == y_expr)))\n",
    "\n",
    "print(\"y(x):\")\n",
    "y_expr_x = y_expr.subs(\n",
    "    x_expr == x,\n",
    "    (1 / x_expr).simplify_full() == 1/x,\n",
    ")\n",
    "display(Math(latex(y == y_expr_x)))\n",
    "\n",
    "print(\"z(x):\")\n",
    "display(Math(latex(z == z_sol_x)))\n",
    "\n",
    "def do_y_substitutions(expr):\n",
    "    return expr.expand() \\\n",
    "        .subs(-B / A ** 2 == -(y - 2 * x) * x / (x-1) ** 2 - log(- x / A + 1 / A)) \\\n",
    "        .subs(B * log(x) / A ** 2 == (y - 2 * x) * x / (x-1) ** 2 * log(x) + log(x) * log(- x / A + 1 / A)) \\\n",
    "        .subs(B  / (A ** 2 * x) == (y - 2 * x) * 1 / (x-1) ** 2 + 1/x * log(- x / A + 1 / A)) \\\n",
    "        # .simplify_full() \\\n",
    "        # .expand()\n",
    "        # .subs( == (y - 2*x) * (1 / (x-1)) )\n",
    "        # .subs( (x_expr - 1) == (x - 1)) \\\n",
    "\n",
    "z_sol_xy = do_y_substitutions(z_sol_x)\n",
    "\n",
    "print(\"z(x, y):\")\n",
    "display(Math(latex(z == z_sol_xy)))"
   ]
  },
  {
   "cell_type": "code",
   "execution_count": 21,
   "metadata": {},
   "outputs": [
    {
     "data": {
      "text/latex": [
       "$\\displaystyle \\frac{1}{2} \\, \\log\\left(x\\right)^{2} + C - \\frac{2 \\, {\\left(x \\log\\left(x\\right) - x + 1\\right)} x}{{\\left(x - 1\\right)}^{2}} + \\frac{{\\left(x \\log\\left(x\\right) - x + 1\\right)} y}{{\\left(x - 1\\right)}^{2}} + {\\rm Li}_2\\left(\\frac{x - 1}{x}\\right)$"
      ],
      "text/plain": [
       "<IPython.core.display.Math object>"
      ]
     },
     "metadata": {},
     "output_type": "display_data"
    }
   ],
   "source": [
    "# So we get the final solution\n",
    "C = var('C')\n",
    "final_sol = y * ((x * log(x) - (x - 1)) / (x - 1) ** 2) - 2*x * ((x * log(x) - (x - 1)) / (x - 1) ** 2) + Integer(1) / Integer(2) * log(x) ** 2 + dilog((x-1) / x) + C\n",
    "display(Math(latex(final_sol)))"
   ]
  },
  {
   "cell_type": "code",
   "execution_count": 22,
   "metadata": {},
   "outputs": [
    {
     "data": {
      "text/latex": [
       "$\\displaystyle 0$"
      ],
      "text/plain": [
       "<IPython.core.display.Math object>"
      ]
     },
     "metadata": {},
     "output_type": "display_data"
    }
   ],
   "source": [
    "# Check that the final solution satisfies the pde\n",
    "# y - (x+1) = \\partial_{y} g(x.y)( y - (x + 1))(x+1) + \\partial_{x} g(x,y)x(x-1)\n",
    "final_sol_x = diff(final_sol, x)\n",
    "final_sol_y = diff(final_sol, y)\n",
    "\n",
    "final_sol_pde = final_sol_y * (y - (x+1))*(x+1) + final_sol_x * x * (x-1) - (y - (x+1))\n",
    "display(Math(latex(final_sol_pde.simplify_full())))\n",
    "\n"
   ]
  }
 ],
 "metadata": {
  "kernelspec": {
   "display_name": "plot",
   "language": "python",
   "name": "python3"
  },
  "language_info": {
   "codemirror_mode": {
    "name": "ipython",
    "version": 3
   },
   "file_extension": ".py",
   "mimetype": "text/x-python",
   "name": "python",
   "nbconvert_exporter": "python",
   "pygments_lexer": "ipython3",
   "version": "3.10.16"
  }
 },
 "nbformat": 4,
 "nbformat_minor": 2
}
