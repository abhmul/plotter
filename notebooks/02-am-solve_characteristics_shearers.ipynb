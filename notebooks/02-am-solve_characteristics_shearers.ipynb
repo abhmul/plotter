{
 "cells": [
  {
   "cell_type": "code",
   "execution_count": 5,
   "metadata": {},
   "outputs": [
    {
     "data": {
      "text/latex": [
       "$\\displaystyle x_{\\mathit{prime}} = {\\left(x - 1\\right)} x$"
      ],
      "text/plain": [
       "<IPython.core.display.Math object>"
      ]
     },
     "metadata": {},
     "output_type": "display_data"
    },
    {
     "name": "stdout",
     "output_type": "stream",
     "text": [
      "x_{\\mathit{prime}} = {\\left(x - 1\\right)} x\n"
     ]
    },
    {
     "data": {
      "text/latex": [
       "$\\displaystyle y_{\\mathit{prime}} = -{\\left(x - y + 1\\right)} {\\left(x + 1\\right)}$"
      ],
      "text/plain": [
       "<IPython.core.display.Math object>"
      ]
     },
     "metadata": {},
     "output_type": "display_data"
    },
    {
     "name": "stdout",
     "output_type": "stream",
     "text": [
      "y_{\\mathit{prime}} = -{\\left(x - y + 1\\right)} {\\left(x + 1\\right)}\n"
     ]
    },
    {
     "data": {
      "text/latex": [
       "$\\displaystyle \\frac{\\partial}{\\partial t}z\\left(t\\right) = -x + y - 1$"
      ],
      "text/plain": [
       "<IPython.core.display.Math object>"
      ]
     },
     "metadata": {},
     "output_type": "display_data"
    },
    {
     "name": "stdout",
     "output_type": "stream",
     "text": [
      "\\frac{\\partial}{\\partial t}z\\left(t\\right) = -x + y - 1\n"
     ]
    },
    {
     "data": {
      "text/latex": [
       "$\\displaystyle x = \\frac{1}{A e^{t} + 1}$"
      ],
      "text/plain": [
       "<IPython.core.display.Math object>"
      ]
     },
     "metadata": {},
     "output_type": "display_data"
    },
    {
     "name": "stdout",
     "output_type": "stream",
     "text": [
      "x = \\frac{1}{A e^{t} + 1}\n"
     ]
    },
    {
     "data": {
      "text/latex": [
       "$\\displaystyle y = {\\left(A e^{t} + 1\\right)} {\\left(\\frac{1}{A e^{t} + 1} - 1\\right)}^{2} {\\left(\\frac{B}{A^{2}} - \\log\\left(-\\frac{\\frac{1}{A e^{t} + 1} - 1}{A}\\right)\\right)} + \\frac{2}{A e^{t} + 1}$"
      ],
      "text/plain": [
       "<IPython.core.display.Math object>"
      ]
     },
     "metadata": {},
     "output_type": "display_data"
    },
    {
     "name": "stdout",
     "output_type": "stream",
     "text": [
      "y = {\\left(A e^{t} + 1\\right)} {\\left(\\frac{1}{A e^{t} + 1} - 1\\right)}^{2} {\\left(\\frac{B}{A^{2}} - \\log\\left(-\\frac{\\frac{1}{A e^{t} + 1} - 1}{A}\\right)\\right)} + \\frac{2}{A e^{t} + 1}\n"
     ]
    }
   ],
   "source": [
    "from IPython.display import Math\n",
    "from sage.all import *\n",
    "\n",
    "def display_sage(expr):\n",
    "    display(Math(latex(expr)))\n",
    "    print(latex(expr))\n",
    "\n",
    "\n",
    "t = var('t')\n",
    "A = var('A')\n",
    "B = var('B')\n",
    "assume(A < 0)\n",
    "assume(t < log(-1/A))\n",
    "\n",
    "# Variables for later\n",
    "z = function('z')(t)\n",
    "x = var('x')\n",
    "y = var('y')\n",
    "# Derivative variables\n",
    "x_prime = var('x_prime')\n",
    "y_prime = var('y_prime')\n",
    "z_prime = diff(z, t)\n",
    "\n",
    "# The ODE System\n",
    "x_eq = x * (x-1)\n",
    "y_eq = (y - (x + 1)) * (x + 1)\n",
    "z_eq = (y - (x+1))\n",
    "# Display the ODE System\n",
    "display_sage(x_prime == x_eq)\n",
    "display_sage(y_prime == y_eq)\n",
    "display_sage(z_prime == z_eq)\n",
    "\n",
    "# Solutions done by hand\n",
    "x_expr = 1 / (1 + A * exp(t))\n",
    "y_expr = ((x_expr - 1) **2 / x_expr) * (B / (A ** 2) - log((1 - x_expr)  / A)) + 2 * x_expr\n",
    "# Display the solutions done by hand\n",
    "display_sage(x == x_expr)\n",
    "display_sage(y == y_expr)"
   ]
  },
  {
   "cell_type": "code",
   "execution_count": 7,
   "metadata": {},
   "outputs": [
    {
     "name": "stdout",
     "output_type": "stream",
     "text": [
      "Checking if x(t) satisfies the characteristic equation:\n"
     ]
    },
    {
     "data": {
      "text/latex": [
       "$\\displaystyle -\\frac{\\frac{1}{A e^{t} + 1} - 1}{A e^{t} + 1} - \\frac{A e^{t}}{{\\left(A e^{t} + 1\\right)}^{2}} = 0$"
      ],
      "text/plain": [
       "<IPython.core.display.Math object>"
      ]
     },
     "metadata": {},
     "output_type": "display_data"
    },
    {
     "name": "stdout",
     "output_type": "stream",
     "text": [
      "-\\frac{\\frac{1}{A e^{t} + 1} - 1}{A e^{t} + 1} - \\frac{A e^{t}}{{\\left(A e^{t} + 1\\right)}^{2}} = 0\n",
      "Solution for x(t) is correct.\n",
      "Checking if y(t) satisfies the characteristic equation:\n"
     ]
    },
    {
     "data": {
      "text/latex": [
       "$\\displaystyle A {\\left(\\frac{1}{A e^{t} + 1} - 1\\right)}^{2} {\\left(\\frac{B}{A^{2}} - \\log\\left(-\\frac{\\frac{1}{A e^{t} + 1} - 1}{A}\\right)\\right)} e^{t} - \\frac{2 \\, A {\\left(\\frac{1}{A e^{t} + 1} - 1\\right)} {\\left(\\frac{B}{A^{2}} - \\log\\left(-\\frac{\\frac{1}{A e^{t} + 1} - 1}{A}\\right)\\right)} e^{t}}{A e^{t} + 1} - {\\left({\\left(A e^{t} + 1\\right)} {\\left(\\frac{1}{A e^{t} + 1} - 1\\right)}^{2} {\\left(\\frac{B}{A^{2}} - \\log\\left(-\\frac{\\frac{1}{A e^{t} + 1} - 1}{A}\\right)\\right)} + \\frac{1}{A e^{t} + 1} - 1\\right)} {\\left(\\frac{1}{A e^{t} + 1} + 1\\right)} + \\frac{A {\\left(\\frac{1}{A e^{t} + 1} - 1\\right)} e^{t}}{A e^{t} + 1} - \\frac{2 \\, A e^{t}}{{\\left(A e^{t} + 1\\right)}^{2}} = 0$"
      ],
      "text/plain": [
       "<IPython.core.display.Math object>"
      ]
     },
     "metadata": {},
     "output_type": "display_data"
    },
    {
     "name": "stdout",
     "output_type": "stream",
     "text": [
      "A {\\left(\\frac{1}{A e^{t} + 1} - 1\\right)}^{2} {\\left(\\frac{B}{A^{2}} - \\log\\left(-\\frac{\\frac{1}{A e^{t} + 1} - 1}{A}\\right)\\right)} e^{t} - \\frac{2 \\, A {\\left(\\frac{1}{A e^{t} + 1} - 1\\right)} {\\left(\\frac{B}{A^{2}} - \\log\\left(-\\frac{\\frac{1}{A e^{t} + 1} - 1}{A}\\right)\\right)} e^{t}}{A e^{t} + 1} - {\\left({\\left(A e^{t} + 1\\right)} {\\left(\\frac{1}{A e^{t} + 1} - 1\\right)}^{2} {\\left(\\frac{B}{A^{2}} - \\log\\left(-\\frac{\\frac{1}{A e^{t} + 1} - 1}{A}\\right)\\right)} + \\frac{1}{A e^{t} + 1} - 1\\right)} {\\left(\\frac{1}{A e^{t} + 1} + 1\\right)} + \\frac{A {\\left(\\frac{1}{A e^{t} + 1} - 1\\right)} e^{t}}{A e^{t} + 1} - \\frac{2 \\, A e^{t}}{{\\left(A e^{t} + 1\\right)}^{2}} = 0\n",
      "Solution for y(t) is correct.\n"
     ]
    }
   ],
   "source": [
    "# check tha x,y solve their respective differential equations\n",
    "print(\"Checking if x(t) satisfies the characteristic equation:\")\n",
    "x_sat = diff(x_expr, t) - x_eq.subs(x == x_expr)\n",
    "if bool(x_sat.simplify_full() == 0):\n",
    "    display_sage(x_sat == 0)\n",
    "    print(\"Solution for x(t) is correct.\")\n",
    "else:\n",
    "    display_sage(x_prime - x_eq == x_sat != 0)\n",
    "    print(\"Correctness for x(t) cannot be determined.\")\n",
    "\n",
    "print(\"Checking if y(t) satisfies the characteristic equation:\")\n",
    "y_sat = diff(y_expr, t) - y_eq.subs(y == y_expr, x == x_expr)\n",
    "if bool(y_sat.simplify_full() == 0):\n",
    "    display_sage(y_sat == 0)\n",
    "    print(\"Solution for y(t) is correct.\")\n",
    "else:\n",
    "    display_sage(y_sat != 0)\n",
    "    print(\"Correctness for y(t) cannot be determined.\")\n"
   ]
  },
  {
   "cell_type": "code",
   "execution_count": 8,
   "metadata": {},
   "outputs": [
    {
     "name": "stdout",
     "output_type": "stream",
     "text": [
      "Full Solution:\n"
     ]
    },
    {
     "data": {
      "text/latex": [
       "$\\displaystyle -{\\left({\\left(\\frac{1}{A} - \\frac{1}{{\\left(A e^{t} + 1\\right)} A}\\right)} \\log\\left(\\frac{1}{A} - \\frac{1}{{\\left(A e^{t} + 1\\right)} A}\\right) - \\frac{1}{A} + \\frac{1}{{\\left(A e^{t} + 1\\right)} A}\\right)} A - {\\left(e^{t} \\log\\left(\\frac{1}{A} - \\frac{1}{{\\left(A e^{t} + 1\\right)} A}\\right) - \\frac{\\log\\left(A e^{t} + 1\\right)}{A}\\right)} A - \\frac{3}{2} \\, t^{2} - A {\\left(\\frac{\\log\\left(A e^{t} + 1\\right)^{2}}{A} - \\frac{2 \\, {\\left(t \\log\\left(A e^{t} + 1\\right) + {\\rm Li}_2\\left(-A e^{t}\\right)\\right)}}{A}\\right)} + 2 \\, t \\log\\left(A e^{t} + 1\\right) - \\log\\left(A e^{t} + 1\\right)^{2} - {\\left(t + \\frac{1}{A e^{t} + 1} - \\log\\left(A e^{t} + 1\\right)\\right)} \\log\\left(\\frac{1}{A} - \\frac{1}{{\\left(A e^{t} + 1\\right)} A}\\right) + 2 \\, {\\left(t - \\log\\left(A e^{t} + 1\\right)\\right)} \\log\\left(\\frac{1}{A} - \\frac{1}{{\\left(A e^{t} + 1\\right)} A}\\right) + \\frac{B e^{t}}{A} + \\frac{{\\left(A e^{t} + 1\\right)} t^{2} + {\\left(A e^{t} + 1\\right)} \\log\\left(A e^{t} + 1\\right)^{2} + 2 \\, {\\left(A e^{t} + 1\\right)} t - 2 \\, {\\left({\\left(A e^{t} + 1\\right)} t + A e^{t} + 1\\right)} \\log\\left(A e^{t} + 1\\right) + 2}{2 \\, {\\left(A e^{t} + 1\\right)}} + \\frac{B {\\left(t + \\frac{1}{A e^{t} + 1} - \\log\\left(A e^{t} + 1\\right)\\right)}}{A^{2}} - \\frac{2 \\, B {\\left(t - \\log\\left(A e^{t} + 1\\right)\\right)}}{A^{2}} + \\frac{B t}{A^{2}} - \\frac{2 \\, B \\log\\left(A e^{t} + 1\\right)}{A^{2}} - \\frac{B}{{\\left(A e^{t} + 1\\right)} A^{2}} - {\\rm Li}_2\\left(-A e^{t}\\right) - \\log\\left(A e^{t} + 1\\right)$"
      ],
      "text/plain": [
       "<IPython.core.display.Math object>"
      ]
     },
     "metadata": {},
     "output_type": "display_data"
    },
    {
     "name": "stdout",
     "output_type": "stream",
     "text": [
      "-{\\left({\\left(\\frac{1}{A} - \\frac{1}{{\\left(A e^{t} + 1\\right)} A}\\right)} \\log\\left(\\frac{1}{A} - \\frac{1}{{\\left(A e^{t} + 1\\right)} A}\\right) - \\frac{1}{A} + \\frac{1}{{\\left(A e^{t} + 1\\right)} A}\\right)} A - {\\left(e^{t} \\log\\left(\\frac{1}{A} - \\frac{1}{{\\left(A e^{t} + 1\\right)} A}\\right) - \\frac{\\log\\left(A e^{t} + 1\\right)}{A}\\right)} A - \\frac{3}{2} \\, t^{2} - A {\\left(\\frac{\\log\\left(A e^{t} + 1\\right)^{2}}{A} - \\frac{2 \\, {\\left(t \\log\\left(A e^{t} + 1\\right) + {\\rm Li}_2\\left(-A e^{t}\\right)\\right)}}{A}\\right)} + 2 \\, t \\log\\left(A e^{t} + 1\\right) - \\log\\left(A e^{t} + 1\\right)^{2} - {\\left(t + \\frac{1}{A e^{t} + 1} - \\log\\left(A e^{t} + 1\\right)\\right)} \\log\\left(\\frac{1}{A} - \\frac{1}{{\\left(A e^{t} + 1\\right)} A}\\right) + 2 \\, {\\left(t - \\log\\left(A e^{t} + 1\\right)\\right)} \\log\\left(\\frac{1}{A} - \\frac{1}{{\\left(A e^{t} + 1\\right)} A}\\right) + \\frac{B e^{t}}{A} + \\frac{{\\left(A e^{t} + 1\\right)} t^{2} + {\\left(A e^{t} + 1\\right)} \\log\\left(A e^{t} + 1\\right)^{2} + 2 \\, {\\left(A e^{t} + 1\\right)} t - 2 \\, {\\left({\\left(A e^{t} + 1\\right)} t + A e^{t} + 1\\right)} \\log\\left(A e^{t} + 1\\right) + 2}{2 \\, {\\left(A e^{t} + 1\\right)}} + \\frac{B {\\left(t + \\frac{1}{A e^{t} + 1} - \\log\\left(A e^{t} + 1\\right)\\right)}}{A^{2}} - \\frac{2 \\, B {\\left(t - \\log\\left(A e^{t} + 1\\right)\\right)}}{A^{2}} + \\frac{B t}{A^{2}} - \\frac{2 \\, B \\log\\left(A e^{t} + 1\\right)}{A^{2}} - \\frac{B}{{\\left(A e^{t} + 1\\right)} A^{2}} - {\\rm Li}_2\\left(-A e^{t}\\right) - \\log\\left(A e^{t} + 1\\right)\n",
      "Checking:\n"
     ]
    },
    {
     "data": {
      "text/latex": [
       "$\\displaystyle 0$"
      ],
      "text/plain": [
       "<IPython.core.display.Math object>"
      ]
     },
     "metadata": {},
     "output_type": "display_data"
    },
    {
     "name": "stdout",
     "output_type": "stream",
     "text": [
      "0\n",
      "z solution is correct\n"
     ]
    }
   ],
   "source": [
    "from sage.symbolic.integration.integral import indefinite_integral\n",
    "\n",
    "# Compute the z solution\n",
    "integrand = (y_expr - (x_expr + 1)).expand()\n",
    "z_sols = []\n",
    "\n",
    "def do_check_substitutions(expr):\n",
    "    return expr.subs(\n",
    "        log(e**t / (A * e**t + 1)) == t - log(A * e**t + 1),\n",
    "    ) \\\n",
    "    .simplify_full()\n",
    "\n",
    "for opnd in integrand.operands():\n",
    "    z_sol_i = indefinite_integral(opnd, t)\n",
    "    z_sols.append(z_sol_i)\n",
    "\n",
    "    z_deq = (diff(z_sol_i, t) - opnd)\n",
    "    z_deq = z_deq.simplify_full()\n",
    "    z_deq = do_check_substitutions(z_deq)\n",
    "    if z_deq != 0:\n",
    "        print(\"Check failed!\")\n",
    "        print(\"Computing integral for:\")\n",
    "        display_sage(opnd)\n",
    "\n",
    "        print(\"Integral:\")\n",
    "        display_sage(z_sol_i)\n",
    "\n",
    "        print(\"Failed Check:\")\n",
    "        display_sage(z_deq)\n",
    "\n",
    "z_sol_t = sum(z_sols)\n",
    "\n",
    "print(\"Full Solution:\")\n",
    "display_sage(z_sol_t)\n",
    "\n",
    "print(\"Checking:\")\n",
    "z_deq = (diff(z_sol_t, t) - integrand)\n",
    "z_deq = z_deq.simplify_full()\n",
    "z_deq = do_check_substitutions(z_deq)\n",
    "display_sage(z_deq)\n",
    "\n",
    "if z_deq != 0:\n",
    "    print(\"Error: z solution is not correct!!!\")\n",
    "else:\n",
    "    print(\"z solution is correct\")\n"
   ]
  },
  {
   "cell_type": "code",
   "execution_count": 9,
   "metadata": {},
   "outputs": [
    {
     "data": {
      "text/latex": [
       "$\\displaystyle x = \\frac{1}{A e^{t} + 1}$"
      ],
      "text/plain": [
       "<IPython.core.display.Math object>"
      ]
     },
     "metadata": {},
     "output_type": "display_data"
    },
    {
     "name": "stdout",
     "output_type": "stream",
     "text": [
      "x = \\frac{1}{A e^{t} + 1}\n"
     ]
    },
    {
     "data": {
      "text/latex": [
       "$\\displaystyle z\\left(t\\right) = -{\\left({\\left(\\frac{1}{A} - \\frac{1}{{\\left(A e^{t} + 1\\right)} A}\\right)} \\log\\left(\\frac{1}{A} - \\frac{1}{{\\left(A e^{t} + 1\\right)} A}\\right) - \\frac{1}{A} + \\frac{1}{{\\left(A e^{t} + 1\\right)} A}\\right)} A - {\\left(e^{t} \\log\\left(\\frac{1}{A} - \\frac{1}{{\\left(A e^{t} + 1\\right)} A}\\right) - \\frac{\\log\\left(A e^{t} + 1\\right)}{A}\\right)} A - \\frac{3}{2} \\, t^{2} - A {\\left(\\frac{\\log\\left(A e^{t} + 1\\right)^{2}}{A} - \\frac{2 \\, {\\left(t \\log\\left(A e^{t} + 1\\right) + {\\rm Li}_2\\left(-A e^{t}\\right)\\right)}}{A}\\right)} + 2 \\, t \\log\\left(A e^{t} + 1\\right) - \\log\\left(A e^{t} + 1\\right)^{2} - {\\left(t + \\frac{1}{A e^{t} + 1} - \\log\\left(A e^{t} + 1\\right)\\right)} \\log\\left(\\frac{1}{A} - \\frac{1}{{\\left(A e^{t} + 1\\right)} A}\\right) + 2 \\, {\\left(t - \\log\\left(A e^{t} + 1\\right)\\right)} \\log\\left(\\frac{1}{A} - \\frac{1}{{\\left(A e^{t} + 1\\right)} A}\\right) + \\frac{B e^{t}}{A} + \\frac{{\\left(A e^{t} + 1\\right)} t^{2} + {\\left(A e^{t} + 1\\right)} \\log\\left(A e^{t} + 1\\right)^{2} + 2 \\, {\\left(A e^{t} + 1\\right)} t - 2 \\, {\\left({\\left(A e^{t} + 1\\right)} t + A e^{t} + 1\\right)} \\log\\left(A e^{t} + 1\\right) + 2}{2 \\, {\\left(A e^{t} + 1\\right)}} + \\frac{B {\\left(t + \\frac{1}{A e^{t} + 1} - \\log\\left(A e^{t} + 1\\right)\\right)}}{A^{2}} - \\frac{2 \\, B {\\left(t - \\log\\left(A e^{t} + 1\\right)\\right)}}{A^{2}} + \\frac{B t}{A^{2}} - \\frac{2 \\, B \\log\\left(A e^{t} + 1\\right)}{A^{2}} - \\frac{B}{{\\left(A e^{t} + 1\\right)} A^{2}} - {\\rm Li}_2\\left(-A e^{t}\\right) - \\log\\left(A e^{t} + 1\\right)$"
      ],
      "text/plain": [
       "<IPython.core.display.Math object>"
      ]
     },
     "metadata": {},
     "output_type": "display_data"
    },
    {
     "name": "stdout",
     "output_type": "stream",
     "text": [
      "z\\left(t\\right) = -{\\left({\\left(\\frac{1}{A} - \\frac{1}{{\\left(A e^{t} + 1\\right)} A}\\right)} \\log\\left(\\frac{1}{A} - \\frac{1}{{\\left(A e^{t} + 1\\right)} A}\\right) - \\frac{1}{A} + \\frac{1}{{\\left(A e^{t} + 1\\right)} A}\\right)} A - {\\left(e^{t} \\log\\left(\\frac{1}{A} - \\frac{1}{{\\left(A e^{t} + 1\\right)} A}\\right) - \\frac{\\log\\left(A e^{t} + 1\\right)}{A}\\right)} A - \\frac{3}{2} \\, t^{2} - A {\\left(\\frac{\\log\\left(A e^{t} + 1\\right)^{2}}{A} - \\frac{2 \\, {\\left(t \\log\\left(A e^{t} + 1\\right) + {\\rm Li}_2\\left(-A e^{t}\\right)\\right)}}{A}\\right)} + 2 \\, t \\log\\left(A e^{t} + 1\\right) - \\log\\left(A e^{t} + 1\\right)^{2} - {\\left(t + \\frac{1}{A e^{t} + 1} - \\log\\left(A e^{t} + 1\\right)\\right)} \\log\\left(\\frac{1}{A} - \\frac{1}{{\\left(A e^{t} + 1\\right)} A}\\right) + 2 \\, {\\left(t - \\log\\left(A e^{t} + 1\\right)\\right)} \\log\\left(\\frac{1}{A} - \\frac{1}{{\\left(A e^{t} + 1\\right)} A}\\right) + \\frac{B e^{t}}{A} + \\frac{{\\left(A e^{t} + 1\\right)} t^{2} + {\\left(A e^{t} + 1\\right)} \\log\\left(A e^{t} + 1\\right)^{2} + 2 \\, {\\left(A e^{t} + 1\\right)} t - 2 \\, {\\left({\\left(A e^{t} + 1\\right)} t + A e^{t} + 1\\right)} \\log\\left(A e^{t} + 1\\right) + 2}{2 \\, {\\left(A e^{t} + 1\\right)}} + \\frac{B {\\left(t + \\frac{1}{A e^{t} + 1} - \\log\\left(A e^{t} + 1\\right)\\right)}}{A^{2}} - \\frac{2 \\, B {\\left(t - \\log\\left(A e^{t} + 1\\right)\\right)}}{A^{2}} + \\frac{B t}{A^{2}} - \\frac{2 \\, B \\log\\left(A e^{t} + 1\\right)}{A^{2}} - \\frac{B}{{\\left(A e^{t} + 1\\right)} A^{2}} - {\\rm Li}_2\\left(-A e^{t}\\right) - \\log\\left(A e^{t} + 1\\right)\n",
      "z(x):\n"
     ]
    },
    {
     "data": {
      "text/latex": [
       "$\\displaystyle z\\left(t\\right) = \\frac{1}{2} \\, \\log\\left(x\\right)^{2} - \\log\\left(x\\right) \\log\\left(-\\frac{x}{A} + \\frac{1}{A}\\right) + \\frac{B \\log\\left(x\\right)}{A^{2}} - \\frac{\\log\\left(-\\frac{x}{A} + \\frac{1}{A}\\right)}{x} - \\frac{B}{A^{2}} + \\frac{B}{A^{2} x} + {\\rm Li}_2\\left(-\\frac{1}{x} + 1\\right) + \\log\\left(-\\frac{x}{A} + \\frac{1}{A}\\right) + 1$"
      ],
      "text/plain": [
       "<IPython.core.display.Math object>"
      ]
     },
     "metadata": {},
     "output_type": "display_data"
    },
    {
     "name": "stdout",
     "output_type": "stream",
     "text": [
      "z\\left(t\\right) = \\frac{1}{2} \\, \\log\\left(x\\right)^{2} - \\log\\left(x\\right) \\log\\left(-\\frac{x}{A} + \\frac{1}{A}\\right) + \\frac{B \\log\\left(x\\right)}{A^{2}} - \\frac{\\log\\left(-\\frac{x}{A} + \\frac{1}{A}\\right)}{x} - \\frac{B}{A^{2}} + \\frac{B}{A^{2} x} + {\\rm Li}_2\\left(-\\frac{1}{x} + 1\\right) + \\log\\left(-\\frac{x}{A} + \\frac{1}{A}\\right) + 1\n"
     ]
    }
   ],
   "source": [
    "# Next we need to substitute in x in for all the t's in z\n",
    "display_sage(x == x_expr)\n",
    "\n",
    "display_sage(z == z_sol_t)\n",
    "\n",
    "def do_x_substitutions(expr):\n",
    "    return expr.expand() \\\n",
    "        .subs(x_expr == x) \\\n",
    "        .subs( (1 / x_expr).simplify_full() == 1/x) \\\n",
    "        .subs( ((x_expr - 1) / x_expr).simplify_full() ==((x - 1) / x)) \\\n",
    "        .subs( ((1 - x_expr) / x_expr).simplify_full() == (1 - x) / x) \\\n",
    "        .subs( (((x_expr - 1) / x_expr)*t).simplify_full()==((x - 1) / x)*t) \\\n",
    "        .subs( dilog((x_expr - 1) / x_expr).simplify_full() ==dilog((x - 1) / x)) \\\n",
    "        .subs( ((1 - x_expr) / x_expr * log(1/x)).simplify_full() ==(1 - x) / x * log(1/x)) \\\n",
    "        .subs( ((1-x_expr) / (A * x_expr)).simplify_full() == (1-x) / (A * x)) \\\n",
    "        .subs( log((1-x_expr) / (A * x_expr)).simplify_full() == log((1-x) / (A * x))) \\\n",
    "        .subs( log( - (x-1) / (A*x) ) == log( - (x-1) / A) + log(1/x)) \\\n",
    "        .subs( log(1/x) == -log(x)) \\\n",
    "        .simplify_full() \\\n",
    "        .expand()\n",
    "\n",
    "z_sol_x = do_x_substitutions(z_sol_t)\n",
    "\n",
    "print(\"z(x):\")\n",
    "display_sage(z == z_sol_x)"
   ]
  },
  {
   "cell_type": "code",
   "execution_count": 10,
   "metadata": {},
   "outputs": [
    {
     "data": {
      "text/latex": [
       "$\\displaystyle y = {\\left(A e^{t} + 1\\right)} {\\left(\\frac{1}{A e^{t} + 1} - 1\\right)}^{2} {\\left(\\frac{B}{A^{2}} - \\log\\left(-\\frac{\\frac{1}{A e^{t} + 1} - 1}{A}\\right)\\right)} + \\frac{2}{A e^{t} + 1}$"
      ],
      "text/plain": [
       "<IPython.core.display.Math object>"
      ]
     },
     "metadata": {},
     "output_type": "display_data"
    },
    {
     "name": "stdout",
     "output_type": "stream",
     "text": [
      "y = {\\left(A e^{t} + 1\\right)} {\\left(\\frac{1}{A e^{t} + 1} - 1\\right)}^{2} {\\left(\\frac{B}{A^{2}} - \\log\\left(-\\frac{\\frac{1}{A e^{t} + 1} - 1}{A}\\right)\\right)} + \\frac{2}{A e^{t} + 1}\n"
     ]
    },
    {
     "data": {
      "text/latex": [
       "$\\displaystyle y = \\frac{{\\left(x - 1\\right)}^{2} {\\left(\\frac{B}{A^{2}} - \\log\\left(-\\frac{x - 1}{A}\\right)\\right)}}{x} + 2 \\, x$"
      ],
      "text/plain": [
       "<IPython.core.display.Math object>"
      ]
     },
     "metadata": {},
     "output_type": "display_data"
    },
    {
     "name": "stdout",
     "output_type": "stream",
     "text": [
      "y = \\frac{{\\left(x - 1\\right)}^{2} {\\left(\\frac{B}{A^{2}} - \\log\\left(-\\frac{x - 1}{A}\\right)\\right)}}{x} + 2 \\, x\n",
      "z(x):\n"
     ]
    },
    {
     "data": {
      "text/latex": [
       "$\\displaystyle z\\left(t\\right) = \\frac{1}{2} \\, \\log\\left(x\\right)^{2} - \\log\\left(x\\right) \\log\\left(-\\frac{x}{A} + \\frac{1}{A}\\right) + \\frac{B \\log\\left(x\\right)}{A^{2}} - \\frac{\\log\\left(-\\frac{x}{A} + \\frac{1}{A}\\right)}{x} - \\frac{B}{A^{2}} + \\frac{B}{A^{2} x} + {\\rm Li}_2\\left(-\\frac{1}{x} + 1\\right) + \\log\\left(-\\frac{x}{A} + \\frac{1}{A}\\right) + 1$"
      ],
      "text/plain": [
       "<IPython.core.display.Math object>"
      ]
     },
     "metadata": {},
     "output_type": "display_data"
    },
    {
     "name": "stdout",
     "output_type": "stream",
     "text": [
      "z\\left(t\\right) = \\frac{1}{2} \\, \\log\\left(x\\right)^{2} - \\log\\left(x\\right) \\log\\left(-\\frac{x}{A} + \\frac{1}{A}\\right) + \\frac{B \\log\\left(x\\right)}{A^{2}} - \\frac{\\log\\left(-\\frac{x}{A} + \\frac{1}{A}\\right)}{x} - \\frac{B}{A^{2}} + \\frac{B}{A^{2} x} + {\\rm Li}_2\\left(-\\frac{1}{x} + 1\\right) + \\log\\left(-\\frac{x}{A} + \\frac{1}{A}\\right) + 1\n",
      "z(x, y):\n"
     ]
    },
    {
     "data": {
      "text/latex": [
       "$\\displaystyle z\\left(t\\right) = \\frac{1}{2} \\, \\log\\left(x\\right)^{2} - \\frac{{\\left(2 \\, x - y\\right)} x \\log\\left(x\\right)}{{\\left(x - 1\\right)}^{2}} + \\frac{{\\left(2 \\, x - y\\right)} x}{{\\left(x - 1\\right)}^{2}} - \\frac{2 \\, x - y}{{\\left(x - 1\\right)}^{2}} + {\\rm Li}_2\\left(-\\frac{1}{x} + 1\\right) + 1$"
      ],
      "text/plain": [
       "<IPython.core.display.Math object>"
      ]
     },
     "metadata": {},
     "output_type": "display_data"
    },
    {
     "name": "stdout",
     "output_type": "stream",
     "text": [
      "z\\left(t\\right) = \\frac{1}{2} \\, \\log\\left(x\\right)^{2} - \\frac{{\\left(2 \\, x - y\\right)} x \\log\\left(x\\right)}{{\\left(x - 1\\right)}^{2}} + \\frac{{\\left(2 \\, x - y\\right)} x}{{\\left(x - 1\\right)}^{2}} - \\frac{2 \\, x - y}{{\\left(x - 1\\right)}^{2}} + {\\rm Li}_2\\left(-\\frac{1}{x} + 1\\right) + 1\n"
     ]
    }
   ],
   "source": [
    "# Next we need to substitute in y where it can be substituted into z\n",
    "display_sage(y == y_expr)\n",
    "\n",
    "y_expr_x = y_expr.subs(\n",
    "    x_expr == x,\n",
    "    (1 / x_expr).simplify_full() == 1/x,\n",
    ")\n",
    "display_sage(y == y_expr_x)\n",
    "\n",
    "print(\"z(x):\")\n",
    "display_sage(z == z_sol_x)\n",
    "\n",
    "def do_y_substitutions(expr):\n",
    "    return expr.expand() \\\n",
    "        .subs(-B / A ** 2 == -(y - 2 * x) * x / (x-1) ** 2 - log(- x / A + 1 / A)) \\\n",
    "        .subs(B * log(x) / A ** 2 == (y - 2 * x) * x / (x-1) ** 2 * log(x) + log(x) * log(- x / A + 1 / A)) \\\n",
    "        .subs(B  / (A ** 2 * x) == (y - 2 * x) * 1 / (x-1) ** 2 + 1/x * log(- x / A + 1 / A)) \\\n",
    "        # .simplify_full() \\\n",
    "        # .expand()\n",
    "        # .subs( == (y - 2*x) * (1 / (x-1)) )\n",
    "        # .subs( (x_expr - 1) == (x - 1)) \\\n",
    "\n",
    "z_sol_xy = do_y_substitutions(z_sol_x)\n",
    "\n",
    "print(\"z(x, y):\")\n",
    "display_sage(z == z_sol_xy)"
   ]
  },
  {
   "cell_type": "code",
   "execution_count": 11,
   "metadata": {},
   "outputs": [
    {
     "data": {
      "text/latex": [
       "$\\displaystyle \\frac{1}{2} \\, \\log\\left(x\\right)^{2} + C - \\frac{2 \\, {\\left(x \\log\\left(x\\right) - x + 1\\right)} x}{{\\left(x - 1\\right)}^{2}} + \\frac{{\\left(x \\log\\left(x\\right) - x + 1\\right)} y}{{\\left(x - 1\\right)}^{2}} + {\\rm Li}_2\\left(\\frac{x - 1}{x}\\right)$"
      ],
      "text/plain": [
       "<IPython.core.display.Math object>"
      ]
     },
     "metadata": {},
     "output_type": "display_data"
    },
    {
     "name": "stdout",
     "output_type": "stream",
     "text": [
      "\\frac{1}{2} \\, \\log\\left(x\\right)^{2} + C - \\frac{2 \\, {\\left(x \\log\\left(x\\right) - x + 1\\right)} x}{{\\left(x - 1\\right)}^{2}} + \\frac{{\\left(x \\log\\left(x\\right) - x + 1\\right)} y}{{\\left(x - 1\\right)}^{2}} + {\\rm Li}_2\\left(\\frac{x - 1}{x}\\right)\n"
     ]
    }
   ],
   "source": [
    "# So we get the final solution\n",
    "C = var('C')\n",
    "final_sol = y * ((x * log(x) - (x - 1)) / (x - 1) ** 2) - 2*x * ((x * log(x) - (x - 1)) / (x - 1) ** 2) + Integer(1) / Integer(2) * log(x) ** 2 + dilog((x-1) / x) + C\n",
    "display_sage(final_sol)"
   ]
  },
  {
   "cell_type": "code",
   "execution_count": 12,
   "metadata": {},
   "outputs": [
    {
     "data": {
      "text/latex": [
       "$\\displaystyle 0$"
      ],
      "text/plain": [
       "<IPython.core.display.Math object>"
      ]
     },
     "metadata": {},
     "output_type": "display_data"
    },
    {
     "name": "stdout",
     "output_type": "stream",
     "text": [
      "0\n"
     ]
    }
   ],
   "source": [
    "# Check that the final solution satisfies the pde\n",
    "# y - (x+1) = \\partial_{y} g(x.y)( y - (x + 1))(x+1) + \\partial_{x} g(x,y)x(x-1)\n",
    "final_sol_x = diff(final_sol, x)\n",
    "final_sol_y = diff(final_sol, y)\n",
    "\n",
    "final_sol_pde = final_sol_y * (y - (x+1))*(x+1) + final_sol_x * x * (x-1) - (y - (x+1))\n",
    "display_sage(final_sol_pde.simplify_full())\n",
    "\n"
   ]
  },
  {
   "cell_type": "code",
   "execution_count": 17,
   "metadata": {},
   "outputs": [
    {
     "data": {
      "text/latex": [
       "$\\displaystyle \\frac{{\\left(x - 1\\right)}^{2} {\\left(\\frac{B x_{0}^{2}}{{\\left(x_{0} - 1\\right)}^{2}} - \\log\\left(\\frac{{\\left(x - 1\\right)} x_{0}}{x_{0} - 1}\\right)\\right)}}{x} + 2 \\, x$"
      ],
      "text/plain": [
       "<IPython.core.display.Math object>"
      ]
     },
     "metadata": {},
     "output_type": "display_data"
    },
    {
     "name": "stdout",
     "output_type": "stream",
     "text": [
      "\\frac{{\\left(x - 1\\right)}^{2} {\\left(\\frac{B x_{0}^{2}}{{\\left(x_{0} - 1\\right)}^{2}} - \\log\\left(\\frac{{\\left(x - 1\\right)} x_{0}}{x_{0} - 1}\\right)\\right)}}{x} + 2 \\, x\n"
     ]
    },
    {
     "data": {
      "text/latex": [
       "$\\displaystyle B = -\\frac{2 \\, x^{2} x_{0}^{2} - 4 \\, x^{2} x_{0} + 2 \\, x^{2} - {\\left(x x_{0}^{2} - 2 \\, x x_{0} + x\\right)} y - {\\left({\\left(x^{2} - 2 \\, x + 1\\right)} x_{0}^{2} + x^{2} - 2 \\, {\\left(x^{2} - 2 \\, x + 1\\right)} x_{0} - 2 \\, x + 1\\right)} \\log\\left(\\frac{{\\left(x - 1\\right)} x_{0}}{x_{0} - 1}\\right)}{{\\left(x^{2} - 2 \\, x + 1\\right)} x_{0}^{2}}$"
      ],
      "text/plain": [
       "<IPython.core.display.Math object>"
      ]
     },
     "metadata": {},
     "output_type": "display_data"
    },
    {
     "name": "stdout",
     "output_type": "stream",
     "text": [
      "B = -\\frac{2 \\, x^{2} x_{0}^{2} - 4 \\, x^{2} x_{0} + 2 \\, x^{2} - {\\left(x x_{0}^{2} - 2 \\, x x_{0} + x\\right)} y - {\\left({\\left(x^{2} - 2 \\, x + 1\\right)} x_{0}^{2} + x^{2} - 2 \\, {\\left(x^{2} - 2 \\, x + 1\\right)} x_{0} - 2 \\, x + 1\\right)} \\log\\left(\\frac{{\\left(x - 1\\right)} x_{0}}{x_{0} - 1}\\right)}{{\\left(x^{2} - 2 \\, x + 1\\right)} x_{0}^{2}}\n"
     ]
    }
   ],
   "source": [
    "# Solve for C\n",
    "x_0 = var('x_0')\n",
    "y_expr_x_0 = y_expr_x.subs(A == (1 - x_0) / x_0)\n",
    "display_sage(y_expr_x_0)\n",
    "\n",
    "B_expr = solve(y_expr_x_0 == y, B)\n",
    "assert len(B_expr) == 1\n",
    "display_sage(B_expr[0].simplify_full())\n"
   ]
  },
  {
   "cell_type": "code",
   "execution_count": 23,
   "metadata": {},
   "outputs": [
    {
     "data": {
      "text/latex": [
       "$\\displaystyle y_{0} = -\\frac{{\\left(x_{0} - 1\\right)}^{2} {\\left(\\frac{{\\left(2 \\, x - y\\right)} x}{{\\left(x - 1\\right)}^{2}} - \\log\\left(\\frac{x - 1}{x_{0} - 1}\\right)\\right)}}{x_{0}} + 2 \\, x_{0}$"
      ],
      "text/plain": [
       "<IPython.core.display.Math object>"
      ]
     },
     "metadata": {},
     "output_type": "display_data"
    },
    {
     "name": "stdout",
     "output_type": "stream",
     "text": [
      "y_{0} = -\\frac{{\\left(x_{0} - 1\\right)}^{2} {\\left(\\frac{{\\left(2 \\, x - y\\right)} x}{{\\left(x - 1\\right)}^{2}} - \\log\\left(\\frac{x - 1}{x_{0} - 1}\\right)\\right)}}{x_{0}} + 2 \\, x_{0}\n"
     ]
    },
    {
     "data": {
      "text/latex": [
       "$\\displaystyle \\frac{x^{2} \\log\\left(x\\right)^{2}}{2 \\, {\\left(x^{2} - 2 \\, x + 1\\right)}} - \\frac{x^{2} \\log\\left(x_{0}\\right)^{2}}{2 \\, {\\left(x^{2} - 2 \\, x + 1\\right)}} - \\frac{x^{2} \\log\\left(x_{0}\\right) \\log\\left(\\frac{x}{x_{0} - 1} - \\frac{1}{x_{0} - 1}\\right)}{x^{2} - 2 \\, x + 1} + \\frac{x^{2} {\\rm Li}_2\\left(-\\frac{1}{x} + 1\\right)}{x^{2} - 2 \\, x + 1} - \\frac{x^{2} {\\rm Li}_2\\left(-\\frac{1}{x_{0}} + 1\\right)}{x^{2} - 2 \\, x + 1} + \\frac{x^{2} h\\left(\\frac{x^{2} x_{0} \\log\\left(\\frac{x}{x_{0} - 1} - \\frac{1}{x_{0} - 1}\\right)}{x^{2} - 2 \\, x + 1} + \\frac{x x_{0} y}{x^{2} - 2 \\, x + 1} - \\frac{2 \\, x^{2} \\log\\left(\\frac{x}{x_{0} - 1} - \\frac{1}{x_{0} - 1}\\right)}{x^{2} - 2 \\, x + 1} - \\frac{2 \\, x x_{0} \\log\\left(\\frac{x}{x_{0} - 1} - \\frac{1}{x_{0} - 1}\\right)}{x^{2} - 2 \\, x + 1} + \\frac{4 \\, x^{2}}{x^{2} - 2 \\, x + 1} - \\frac{4 \\, x x_{0}}{x^{2} - 2 \\, x + 1} - \\frac{2 \\, x y}{x^{2} - 2 \\, x + 1} + \\frac{4 \\, x \\log\\left(\\frac{x}{x_{0} - 1} - \\frac{1}{x_{0} - 1}\\right)}{x^{2} - 2 \\, x + 1} + \\frac{x^{2} \\log\\left(\\frac{x}{x_{0} - 1} - \\frac{1}{x_{0} - 1}\\right)}{{\\left(x^{2} - 2 \\, x + 1\\right)} x_{0}} + \\frac{x_{0} \\log\\left(\\frac{x}{x_{0} - 1} - \\frac{1}{x_{0} - 1}\\right)}{x^{2} - 2 \\, x + 1} - \\frac{2 \\, x^{2}}{{\\left(x^{2} - 2 \\, x + 1\\right)} x_{0}} + \\frac{2 \\, x_{0}}{x^{2} - 2 \\, x + 1} + \\frac{x y}{{\\left(x^{2} - 2 \\, x + 1\\right)} x_{0}} - \\frac{2 \\, \\log\\left(\\frac{x}{x_{0} - 1} - \\frac{1}{x_{0} - 1}\\right)}{x^{2} - 2 \\, x + 1} - \\frac{2 \\, x \\log\\left(\\frac{x}{x_{0} - 1} - \\frac{1}{x_{0} - 1}\\right)}{{\\left(x^{2} - 2 \\, x + 1\\right)} x_{0}} + \\frac{\\log\\left(\\frac{x}{x_{0} - 1} - \\frac{1}{x_{0} - 1}\\right)}{{\\left(x^{2} - 2 \\, x + 1\\right)} x_{0}}\\right)}{x^{2} - 2 \\, x + 1} - \\frac{2 \\, x^{2} \\log\\left(x\\right)}{x^{2} - 2 \\, x + 1} + \\frac{x y \\log\\left(x\\right)}{x^{2} - 2 \\, x + 1} - \\frac{x \\log\\left(x\\right)^{2}}{x^{2} - 2 \\, x + 1} + \\frac{2 \\, x^{2} \\log\\left(x_{0}\\right)}{x^{2} - 2 \\, x + 1} - \\frac{x y \\log\\left(x_{0}\\right)}{x^{2} - 2 \\, x + 1} + \\frac{x \\log\\left(x_{0}\\right)^{2}}{x^{2} - 2 \\, x + 1} + \\frac{x^{2} \\log\\left(\\frac{x}{x_{0} - 1} - \\frac{1}{x_{0} - 1}\\right)}{x^{2} - 2 \\, x + 1} + \\frac{2 \\, x \\log\\left(x_{0}\\right) \\log\\left(\\frac{x}{x_{0} - 1} - \\frac{1}{x_{0} - 1}\\right)}{x^{2} - 2 \\, x + 1} - \\frac{2 \\, x {\\rm Li}_2\\left(-\\frac{1}{x} + 1\\right)}{x^{2} - 2 \\, x + 1} + \\frac{2 \\, x {\\rm Li}_2\\left(-\\frac{1}{x_{0}} + 1\\right)}{x^{2} - 2 \\, x + 1} - \\frac{2 \\, x h\\left(\\frac{x^{2} x_{0} \\log\\left(\\frac{x}{x_{0} - 1} - \\frac{1}{x_{0} - 1}\\right)}{x^{2} - 2 \\, x + 1} + \\frac{x x_{0} y}{x^{2} - 2 \\, x + 1} - \\frac{2 \\, x^{2} \\log\\left(\\frac{x}{x_{0} - 1} - \\frac{1}{x_{0} - 1}\\right)}{x^{2} - 2 \\, x + 1} - \\frac{2 \\, x x_{0} \\log\\left(\\frac{x}{x_{0} - 1} - \\frac{1}{x_{0} - 1}\\right)}{x^{2} - 2 \\, x + 1} + \\frac{4 \\, x^{2}}{x^{2} - 2 \\, x + 1} - \\frac{4 \\, x x_{0}}{x^{2} - 2 \\, x + 1} - \\frac{2 \\, x y}{x^{2} - 2 \\, x + 1} + \\frac{4 \\, x \\log\\left(\\frac{x}{x_{0} - 1} - \\frac{1}{x_{0} - 1}\\right)}{x^{2} - 2 \\, x + 1} + \\frac{x^{2} \\log\\left(\\frac{x}{x_{0} - 1} - \\frac{1}{x_{0} - 1}\\right)}{{\\left(x^{2} - 2 \\, x + 1\\right)} x_{0}} + \\frac{x_{0} \\log\\left(\\frac{x}{x_{0} - 1} - \\frac{1}{x_{0} - 1}\\right)}{x^{2} - 2 \\, x + 1} - \\frac{2 \\, x^{2}}{{\\left(x^{2} - 2 \\, x + 1\\right)} x_{0}} + \\frac{2 \\, x_{0}}{x^{2} - 2 \\, x + 1} + \\frac{x y}{{\\left(x^{2} - 2 \\, x + 1\\right)} x_{0}} - \\frac{2 \\, \\log\\left(\\frac{x}{x_{0} - 1} - \\frac{1}{x_{0} - 1}\\right)}{x^{2} - 2 \\, x + 1} - \\frac{2 \\, x \\log\\left(\\frac{x}{x_{0} - 1} - \\frac{1}{x_{0} - 1}\\right)}{{\\left(x^{2} - 2 \\, x + 1\\right)} x_{0}} + \\frac{\\log\\left(\\frac{x}{x_{0} - 1} - \\frac{1}{x_{0} - 1}\\right)}{{\\left(x^{2} - 2 \\, x + 1\\right)} x_{0}}\\right)}{x^{2} - 2 \\, x + 1} + \\frac{\\log\\left(x\\right)^{2}}{2 \\, {\\left(x^{2} - 2 \\, x + 1\\right)}} - \\frac{\\log\\left(x_{0}\\right)^{2}}{2 \\, {\\left(x^{2} - 2 \\, x + 1\\right)}} - \\frac{2 \\, x \\log\\left(\\frac{x}{x_{0} - 1} - \\frac{1}{x_{0} - 1}\\right)}{x^{2} - 2 \\, x + 1} - \\frac{x^{2} \\log\\left(\\frac{x}{x_{0} - 1} - \\frac{1}{x_{0} - 1}\\right)}{{\\left(x^{2} - 2 \\, x + 1\\right)} x_{0}} - \\frac{\\log\\left(x_{0}\\right) \\log\\left(\\frac{x}{x_{0} - 1} - \\frac{1}{x_{0} - 1}\\right)}{x^{2} - 2 \\, x + 1} - \\frac{2 \\, x}{x^{2} - 2 \\, x + 1} + \\frac{2 \\, x^{2}}{{\\left(x^{2} - 2 \\, x + 1\\right)} x_{0}} + \\frac{y}{x^{2} - 2 \\, x + 1} - \\frac{x y}{{\\left(x^{2} - 2 \\, x + 1\\right)} x_{0}} + \\frac{{\\rm Li}_2\\left(-\\frac{1}{x} + 1\\right)}{x^{2} - 2 \\, x + 1} - \\frac{{\\rm Li}_2\\left(-\\frac{1}{x_{0}} + 1\\right)}{x^{2} - 2 \\, x + 1} + \\frac{h\\left(\\frac{x^{2} x_{0} \\log\\left(\\frac{x}{x_{0} - 1} - \\frac{1}{x_{0} - 1}\\right)}{x^{2} - 2 \\, x + 1} + \\frac{x x_{0} y}{x^{2} - 2 \\, x + 1} - \\frac{2 \\, x^{2} \\log\\left(\\frac{x}{x_{0} - 1} - \\frac{1}{x_{0} - 1}\\right)}{x^{2} - 2 \\, x + 1} - \\frac{2 \\, x x_{0} \\log\\left(\\frac{x}{x_{0} - 1} - \\frac{1}{x_{0} - 1}\\right)}{x^{2} - 2 \\, x + 1} + \\frac{4 \\, x^{2}}{x^{2} - 2 \\, x + 1} - \\frac{4 \\, x x_{0}}{x^{2} - 2 \\, x + 1} - \\frac{2 \\, x y}{x^{2} - 2 \\, x + 1} + \\frac{4 \\, x \\log\\left(\\frac{x}{x_{0} - 1} - \\frac{1}{x_{0} - 1}\\right)}{x^{2} - 2 \\, x + 1} + \\frac{x^{2} \\log\\left(\\frac{x}{x_{0} - 1} - \\frac{1}{x_{0} - 1}\\right)}{{\\left(x^{2} - 2 \\, x + 1\\right)} x_{0}} + \\frac{x_{0} \\log\\left(\\frac{x}{x_{0} - 1} - \\frac{1}{x_{0} - 1}\\right)}{x^{2} - 2 \\, x + 1} - \\frac{2 \\, x^{2}}{{\\left(x^{2} - 2 \\, x + 1\\right)} x_{0}} + \\frac{2 \\, x_{0}}{x^{2} - 2 \\, x + 1} + \\frac{x y}{{\\left(x^{2} - 2 \\, x + 1\\right)} x_{0}} - \\frac{2 \\, \\log\\left(\\frac{x}{x_{0} - 1} - \\frac{1}{x_{0} - 1}\\right)}{x^{2} - 2 \\, x + 1} - \\frac{2 \\, x \\log\\left(\\frac{x}{x_{0} - 1} - \\frac{1}{x_{0} - 1}\\right)}{{\\left(x^{2} - 2 \\, x + 1\\right)} x_{0}} + \\frac{\\log\\left(\\frac{x}{x_{0} - 1} - \\frac{1}{x_{0} - 1}\\right)}{{\\left(x^{2} - 2 \\, x + 1\\right)} x_{0}}\\right)}{x^{2} - 2 \\, x + 1} + \\frac{\\log\\left(\\frac{x}{x_{0} - 1} - \\frac{1}{x_{0} - 1}\\right)}{x^{2} - 2 \\, x + 1} + \\frac{2 \\, x \\log\\left(\\frac{x}{x_{0} - 1} - \\frac{1}{x_{0} - 1}\\right)}{{\\left(x^{2} - 2 \\, x + 1\\right)} x_{0}} - \\frac{\\log\\left(\\frac{x}{x_{0} - 1} - \\frac{1}{x_{0} - 1}\\right)}{{\\left(x^{2} - 2 \\, x + 1\\right)} x_{0}}$"
      ],
      "text/plain": [
       "<IPython.core.display.Math object>"
      ]
     },
     "metadata": {},
     "output_type": "display_data"
    },
    {
     "name": "stdout",
     "output_type": "stream",
     "text": [
      "\\frac{x^{2} \\log\\left(x\\right)^{2}}{2 \\, {\\left(x^{2} - 2 \\, x + 1\\right)}} - \\frac{x^{2} \\log\\left(x_{0}\\right)^{2}}{2 \\, {\\left(x^{2} - 2 \\, x + 1\\right)}} - \\frac{x^{2} \\log\\left(x_{0}\\right) \\log\\left(\\frac{x}{x_{0} - 1} - \\frac{1}{x_{0} - 1}\\right)}{x^{2} - 2 \\, x + 1} + \\frac{x^{2} {\\rm Li}_2\\left(-\\frac{1}{x} + 1\\right)}{x^{2} - 2 \\, x + 1} - \\frac{x^{2} {\\rm Li}_2\\left(-\\frac{1}{x_{0}} + 1\\right)}{x^{2} - 2 \\, x + 1} + \\frac{x^{2} h\\left(\\frac{x^{2} x_{0} \\log\\left(\\frac{x}{x_{0} - 1} - \\frac{1}{x_{0} - 1}\\right)}{x^{2} - 2 \\, x + 1} + \\frac{x x_{0} y}{x^{2} - 2 \\, x + 1} - \\frac{2 \\, x^{2} \\log\\left(\\frac{x}{x_{0} - 1} - \\frac{1}{x_{0} - 1}\\right)}{x^{2} - 2 \\, x + 1} - \\frac{2 \\, x x_{0} \\log\\left(\\frac{x}{x_{0} - 1} - \\frac{1}{x_{0} - 1}\\right)}{x^{2} - 2 \\, x + 1} + \\frac{4 \\, x^{2}}{x^{2} - 2 \\, x + 1} - \\frac{4 \\, x x_{0}}{x^{2} - 2 \\, x + 1} - \\frac{2 \\, x y}{x^{2} - 2 \\, x + 1} + \\frac{4 \\, x \\log\\left(\\frac{x}{x_{0} - 1} - \\frac{1}{x_{0} - 1}\\right)}{x^{2} - 2 \\, x + 1} + \\frac{x^{2} \\log\\left(\\frac{x}{x_{0} - 1} - \\frac{1}{x_{0} - 1}\\right)}{{\\left(x^{2} - 2 \\, x + 1\\right)} x_{0}} + \\frac{x_{0} \\log\\left(\\frac{x}{x_{0} - 1} - \\frac{1}{x_{0} - 1}\\right)}{x^{2} - 2 \\, x + 1} - \\frac{2 \\, x^{2}}{{\\left(x^{2} - 2 \\, x + 1\\right)} x_{0}} + \\frac{2 \\, x_{0}}{x^{2} - 2 \\, x + 1} + \\frac{x y}{{\\left(x^{2} - 2 \\, x + 1\\right)} x_{0}} - \\frac{2 \\, \\log\\left(\\frac{x}{x_{0} - 1} - \\frac{1}{x_{0} - 1}\\right)}{x^{2} - 2 \\, x + 1} - \\frac{2 \\, x \\log\\left(\\frac{x}{x_{0} - 1} - \\frac{1}{x_{0} - 1}\\right)}{{\\left(x^{2} - 2 \\, x + 1\\right)} x_{0}} + \\frac{\\log\\left(\\frac{x}{x_{0} - 1} - \\frac{1}{x_{0} - 1}\\right)}{{\\left(x^{2} - 2 \\, x + 1\\right)} x_{0}}\\right)}{x^{2} - 2 \\, x + 1} - \\frac{2 \\, x^{2} \\log\\left(x\\right)}{x^{2} - 2 \\, x + 1} + \\frac{x y \\log\\left(x\\right)}{x^{2} - 2 \\, x + 1} - \\frac{x \\log\\left(x\\right)^{2}}{x^{2} - 2 \\, x + 1} + \\frac{2 \\, x^{2} \\log\\left(x_{0}\\right)}{x^{2} - 2 \\, x + 1} - \\frac{x y \\log\\left(x_{0}\\right)}{x^{2} - 2 \\, x + 1} + \\frac{x \\log\\left(x_{0}\\right)^{2}}{x^{2} - 2 \\, x + 1} + \\frac{x^{2} \\log\\left(\\frac{x}{x_{0} - 1} - \\frac{1}{x_{0} - 1}\\right)}{x^{2} - 2 \\, x + 1} + \\frac{2 \\, x \\log\\left(x_{0}\\right) \\log\\left(\\frac{x}{x_{0} - 1} - \\frac{1}{x_{0} - 1}\\right)}{x^{2} - 2 \\, x + 1} - \\frac{2 \\, x {\\rm Li}_2\\left(-\\frac{1}{x} + 1\\right)}{x^{2} - 2 \\, x + 1} + \\frac{2 \\, x {\\rm Li}_2\\left(-\\frac{1}{x_{0}} + 1\\right)}{x^{2} - 2 \\, x + 1} - \\frac{2 \\, x h\\left(\\frac{x^{2} x_{0} \\log\\left(\\frac{x}{x_{0} - 1} - \\frac{1}{x_{0} - 1}\\right)}{x^{2} - 2 \\, x + 1} + \\frac{x x_{0} y}{x^{2} - 2 \\, x + 1} - \\frac{2 \\, x^{2} \\log\\left(\\frac{x}{x_{0} - 1} - \\frac{1}{x_{0} - 1}\\right)}{x^{2} - 2 \\, x + 1} - \\frac{2 \\, x x_{0} \\log\\left(\\frac{x}{x_{0} - 1} - \\frac{1}{x_{0} - 1}\\right)}{x^{2} - 2 \\, x + 1} + \\frac{4 \\, x^{2}}{x^{2} - 2 \\, x + 1} - \\frac{4 \\, x x_{0}}{x^{2} - 2 \\, x + 1} - \\frac{2 \\, x y}{x^{2} - 2 \\, x + 1} + \\frac{4 \\, x \\log\\left(\\frac{x}{x_{0} - 1} - \\frac{1}{x_{0} - 1}\\right)}{x^{2} - 2 \\, x + 1} + \\frac{x^{2} \\log\\left(\\frac{x}{x_{0} - 1} - \\frac{1}{x_{0} - 1}\\right)}{{\\left(x^{2} - 2 \\, x + 1\\right)} x_{0}} + \\frac{x_{0} \\log\\left(\\frac{x}{x_{0} - 1} - \\frac{1}{x_{0} - 1}\\right)}{x^{2} - 2 \\, x + 1} - \\frac{2 \\, x^{2}}{{\\left(x^{2} - 2 \\, x + 1\\right)} x_{0}} + \\frac{2 \\, x_{0}}{x^{2} - 2 \\, x + 1} + \\frac{x y}{{\\left(x^{2} - 2 \\, x + 1\\right)} x_{0}} - \\frac{2 \\, \\log\\left(\\frac{x}{x_{0} - 1} - \\frac{1}{x_{0} - 1}\\right)}{x^{2} - 2 \\, x + 1} - \\frac{2 \\, x \\log\\left(\\frac{x}{x_{0} - 1} - \\frac{1}{x_{0} - 1}\\right)}{{\\left(x^{2} - 2 \\, x + 1\\right)} x_{0}} + \\frac{\\log\\left(\\frac{x}{x_{0} - 1} - \\frac{1}{x_{0} - 1}\\right)}{{\\left(x^{2} - 2 \\, x + 1\\right)} x_{0}}\\right)}{x^{2} - 2 \\, x + 1} + \\frac{\\log\\left(x\\right)^{2}}{2 \\, {\\left(x^{2} - 2 \\, x + 1\\right)}} - \\frac{\\log\\left(x_{0}\\right)^{2}}{2 \\, {\\left(x^{2} - 2 \\, x + 1\\right)}} - \\frac{2 \\, x \\log\\left(\\frac{x}{x_{0} - 1} - \\frac{1}{x_{0} - 1}\\right)}{x^{2} - 2 \\, x + 1} - \\frac{x^{2} \\log\\left(\\frac{x}{x_{0} - 1} - \\frac{1}{x_{0} - 1}\\right)}{{\\left(x^{2} - 2 \\, x + 1\\right)} x_{0}} - \\frac{\\log\\left(x_{0}\\right) \\log\\left(\\frac{x}{x_{0} - 1} - \\frac{1}{x_{0} - 1}\\right)}{x^{2} - 2 \\, x + 1} - \\frac{2 \\, x}{x^{2} - 2 \\, x + 1} + \\frac{2 \\, x^{2}}{{\\left(x^{2} - 2 \\, x + 1\\right)} x_{0}} + \\frac{y}{x^{2} - 2 \\, x + 1} - \\frac{x y}{{\\left(x^{2} - 2 \\, x + 1\\right)} x_{0}} + \\frac{{\\rm Li}_2\\left(-\\frac{1}{x} + 1\\right)}{x^{2} - 2 \\, x + 1} - \\frac{{\\rm Li}_2\\left(-\\frac{1}{x_{0}} + 1\\right)}{x^{2} - 2 \\, x + 1} + \\frac{h\\left(\\frac{x^{2} x_{0} \\log\\left(\\frac{x}{x_{0} - 1} - \\frac{1}{x_{0} - 1}\\right)}{x^{2} - 2 \\, x + 1} + \\frac{x x_{0} y}{x^{2} - 2 \\, x + 1} - \\frac{2 \\, x^{2} \\log\\left(\\frac{x}{x_{0} - 1} - \\frac{1}{x_{0} - 1}\\right)}{x^{2} - 2 \\, x + 1} - \\frac{2 \\, x x_{0} \\log\\left(\\frac{x}{x_{0} - 1} - \\frac{1}{x_{0} - 1}\\right)}{x^{2} - 2 \\, x + 1} + \\frac{4 \\, x^{2}}{x^{2} - 2 \\, x + 1} - \\frac{4 \\, x x_{0}}{x^{2} - 2 \\, x + 1} - \\frac{2 \\, x y}{x^{2} - 2 \\, x + 1} + \\frac{4 \\, x \\log\\left(\\frac{x}{x_{0} - 1} - \\frac{1}{x_{0} - 1}\\right)}{x^{2} - 2 \\, x + 1} + \\frac{x^{2} \\log\\left(\\frac{x}{x_{0} - 1} - \\frac{1}{x_{0} - 1}\\right)}{{\\left(x^{2} - 2 \\, x + 1\\right)} x_{0}} + \\frac{x_{0} \\log\\left(\\frac{x}{x_{0} - 1} - \\frac{1}{x_{0} - 1}\\right)}{x^{2} - 2 \\, x + 1} - \\frac{2 \\, x^{2}}{{\\left(x^{2} - 2 \\, x + 1\\right)} x_{0}} + \\frac{2 \\, x_{0}}{x^{2} - 2 \\, x + 1} + \\frac{x y}{{\\left(x^{2} - 2 \\, x + 1\\right)} x_{0}} - \\frac{2 \\, \\log\\left(\\frac{x}{x_{0} - 1} - \\frac{1}{x_{0} - 1}\\right)}{x^{2} - 2 \\, x + 1} - \\frac{2 \\, x \\log\\left(\\frac{x}{x_{0} - 1} - \\frac{1}{x_{0} - 1}\\right)}{{\\left(x^{2} - 2 \\, x + 1\\right)} x_{0}} + \\frac{\\log\\left(\\frac{x}{x_{0} - 1} - \\frac{1}{x_{0} - 1}\\right)}{{\\left(x^{2} - 2 \\, x + 1\\right)} x_{0}}\\right)}{x^{2} - 2 \\, x + 1} + \\frac{\\log\\left(\\frac{x}{x_{0} - 1} - \\frac{1}{x_{0} - 1}\\right)}{x^{2} - 2 \\, x + 1} + \\frac{2 \\, x \\log\\left(\\frac{x}{x_{0} - 1} - \\frac{1}{x_{0} - 1}\\right)}{{\\left(x^{2} - 2 \\, x + 1\\right)} x_{0}} - \\frac{\\log\\left(\\frac{x}{x_{0} - 1} - \\frac{1}{x_{0} - 1}\\right)}{{\\left(x^{2} - 2 \\, x + 1\\right)} x_{0}}\n"
     ]
    }
   ],
   "source": [
    "# Initial data term\n",
    "y_0 = var('y_0')\n",
    "h = function('h')(y_0)\n",
    "\n",
    "y_0_expr = ( (y - 2 * x) * x / (x-1) ** 2 + log((x-1)/(x_0 - 1)) ) * (x_0 - 1) ** 2 / x_0 + 2 * x_0\n",
    "display_sage(y_0 == y_0_expr)\n",
    "\n",
    "v_expr = final_sol.subs(\n",
    "    y == y_0_expr,\n",
    "    x == x_0,\n",
    "    C == 0,\n",
    ")\n",
    "u_expr = final_sol.subs(\n",
    "    C == h(y_0=y_0_expr) - v_expr\n",
    ").expand().simplify_full().expand()\n",
    "\n",
    "display_sage(u_expr)"
   ]
  },
  {
   "cell_type": "code",
   "execution_count": 22,
   "metadata": {},
   "outputs": [
    {
     "data": {
      "text/latex": [
       "$\\displaystyle 0$"
      ],
      "text/plain": [
       "<IPython.core.display.Math object>"
      ]
     },
     "metadata": {},
     "output_type": "display_data"
    },
    {
     "name": "stdout",
     "output_type": "stream",
     "text": [
      "0\n"
     ]
    }
   ],
   "source": [
    "# Check that u_expr satisfies the pde\n",
    "u_expr_x = diff(u_expr, x)\n",
    "u_expr_y = diff(u_expr, y)\n",
    "\n",
    "u_expr_pde = u_expr_y * (y - (x+1))*(x+1) + u_expr_x * x * (x-1) - (y - (x+1))\n",
    "display_sage(u_expr_pde.simplify_full())"
   ]
  }
 ],
 "metadata": {
  "kernelspec": {
   "display_name": "plot",
   "language": "python",
   "name": "python3"
  },
  "language_info": {
   "codemirror_mode": {
    "name": "ipython",
    "version": 3
   },
   "file_extension": ".py",
   "mimetype": "text/x-python",
   "name": "python",
   "nbconvert_exporter": "python",
   "pygments_lexer": "ipython3",
   "version": "3.10.16"
  }
 },
 "nbformat": 4,
 "nbformat_minor": 2
}
